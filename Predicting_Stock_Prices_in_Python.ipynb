{
  "nbformat": 4,
  "nbformat_minor": 0,
  "metadata": {
    "colab": {
      "name": "Predicting Stock Prices in Python.ipynb",
      "provenance": [],
      "authorship_tag": "ABX9TyMoTnSVbr1yZdIYXXVpOBwn",
      "include_colab_link": true
    },
    "kernelspec": {
      "name": "python3",
      "display_name": "Python 3"
    },
    "language_info": {
      "name": "python"
    }
  },
  "cells": [
    {
      "cell_type": "markdown",
      "metadata": {
        "id": "view-in-github",
        "colab_type": "text"
      },
      "source": [
        "<a href=\"https://colab.research.google.com/github/helioRocha/programming-4-finance/blob/master/Predicting_Stock_Prices_in_Python.ipynb\" target=\"_parent\"><img src=\"https://colab.research.google.com/assets/colab-badge.svg\" alt=\"Open In Colab\"/></a>"
      ]
    },
    {
      "cell_type": "markdown",
      "metadata": {
        "id": "eaJA7o9uI11U"
      },
      "source": [
        "##[NeuralNine: Predicting Stock Prices in Python](https://youtu.be/PuZY9q-aKLw)\n",
        "\n",
        "> **DISCLAIMER**: This is not investing advice, just an exercise. I am not yet a professional who is qualified in giving any financial advice. This is a notebook purely about programming using financial data. Original lesson by NeuralNine."
      ]
    },
    {
      "cell_type": "code",
      "metadata": {
        "id": "Ygwl19reCx3w"
      },
      "source": [
        "import numpy as np\n",
        "import matplotlib.pyplot as plt\n",
        "import pandas as pd\n",
        "import pandas_datareader as web\n",
        "import datetime as dt\n",
        "\n",
        "from sklearn.preprocessing import MinMaxScaler\n",
        "from tensorflow.keras.models import Sequential\n",
        "from tensorflow.keras.layers import Dense, Dropout, LSTM\n"
      ],
      "execution_count": 1,
      "outputs": []
    },
    {
      "cell_type": "markdown",
      "metadata": {
        "id": "3QQiOV5JKnhw"
      },
      "source": [
        "#### Load Data"
      ]
    },
    {
      "cell_type": "code",
      "metadata": {
        "id": "bfjjktLOKG8I"
      },
      "source": [
        "company_stock_symbol = 'T'\n"
      ],
      "execution_count": 2,
      "outputs": []
    },
    {
      "cell_type": "code",
      "metadata": {
        "id": "QvIYqhmIdmXM"
      },
      "source": [
        "start, end = dt.datetime(2011,1,1), dt.datetime(2021,1,1)\n",
        "source = 'yahoo'\n",
        "\n",
        "data = web.DataReader(company_stock_symbol, \n",
        "                      source, \n",
        "                      start, \n",
        "                      end)\n"
      ],
      "execution_count": 3,
      "outputs": []
    },
    {
      "cell_type": "markdown",
      "metadata": {
        "id": "6cEXmqSBLpxy"
      },
      "source": [
        "### Prepare Data for NN"
      ]
    },
    {
      "cell_type": "code",
      "metadata": {
        "id": "vhnYBm9cLuDl"
      },
      "source": [
        "scaler = MinMaxScaler(feature_range=(0,1)) # to fit values between 0 and 1\n",
        "scaled_data = scaler.fit_transform(data['Close'].values.reshape(-1, 1))\n",
        "\n",
        "prediction_days = 60 # How many past days I want to base my prediction on (next day)\n",
        "\n",
        "x_train = [scaled_data[x-prediction_days:x, 0] for x in range(prediction_days, len(scaled_data))]\n",
        "y_train = [scaled_data[x, 0] for x in range(prediction_days, len(scaled_data))]\n",
        "\n",
        "x_train, y_train = np.array(x_train), np.array(y_train)\n",
        "x_train = np.reshape(x_train, (x_train.shape[0], x_train.shape[1], 1))\n"
      ],
      "execution_count": 4,
      "outputs": []
    },
    {
      "cell_type": "markdown",
      "metadata": {
        "id": "lLrSLAuQOOe9"
      },
      "source": [
        "####Build the Model"
      ]
    },
    {
      "cell_type": "code",
      "metadata": {
        "colab": {
          "base_uri": "https://localhost:8080/"
        },
        "id": "1hYo1geVOS_y",
        "outputId": "e120efea-21b7-4d9d-a31a-384255e1ad5f"
      },
      "source": [
        "model = Sequential()\n",
        "\n",
        "model.add(LSTM(units=50, \n",
        "               return_sequences=True, \n",
        "               input_shape=(x_train.shape[1], 1)))\n",
        "model.add(Dropout(0.2))\n",
        "model.add(LSTM(units=50, \n",
        "               return_sequences=True))\n",
        "model.add(Dropout(0.2))\n",
        "model.add(LSTM(units=50))\n",
        "model.add(Dropout(0.2))\n",
        "model.add(Dense(units=1)) # Prediction of the next closing value\n",
        "\n",
        "model.compile(optimizer='adam', \n",
        "              loss='mean_squared_error')\n",
        "model.fit(x_train, \n",
        "          y_train, \n",
        "          epochs=25, \n",
        "          batch_size=32)\n"
      ],
      "execution_count": 5,
      "outputs": [
        {
          "output_type": "stream",
          "text": [
            "Epoch 1/25\n",
            "77/77 [==============================] - 12s 87ms/step - loss: 0.0202\n",
            "Epoch 2/25\n",
            "77/77 [==============================] - 7s 87ms/step - loss: 0.0067\n",
            "Epoch 3/25\n",
            "77/77 [==============================] - 7s 86ms/step - loss: 0.0055\n",
            "Epoch 4/25\n",
            "77/77 [==============================] - 7s 87ms/step - loss: 0.0052\n",
            "Epoch 5/25\n",
            "77/77 [==============================] - 7s 86ms/step - loss: 0.0047\n",
            "Epoch 6/25\n",
            "77/77 [==============================] - 7s 87ms/step - loss: 0.0048\n",
            "Epoch 7/25\n",
            "77/77 [==============================] - 7s 87ms/step - loss: 0.0042\n",
            "Epoch 8/25\n",
            "77/77 [==============================] - 7s 88ms/step - loss: 0.0039\n",
            "Epoch 9/25\n",
            "77/77 [==============================] - 7s 88ms/step - loss: 0.0037\n",
            "Epoch 10/25\n",
            "77/77 [==============================] - 7s 88ms/step - loss: 0.0037\n",
            "Epoch 11/25\n",
            "77/77 [==============================] - 7s 89ms/step - loss: 0.0035\n",
            "Epoch 12/25\n",
            "77/77 [==============================] - 7s 89ms/step - loss: 0.0033\n",
            "Epoch 13/25\n",
            "77/77 [==============================] - 7s 87ms/step - loss: 0.0033\n",
            "Epoch 14/25\n",
            "77/77 [==============================] - 7s 89ms/step - loss: 0.0031\n",
            "Epoch 15/25\n",
            "77/77 [==============================] - 7s 87ms/step - loss: 0.0031\n",
            "Epoch 16/25\n",
            "77/77 [==============================] - 7s 87ms/step - loss: 0.0030\n",
            "Epoch 17/25\n",
            "77/77 [==============================] - 7s 88ms/step - loss: 0.0027\n",
            "Epoch 18/25\n",
            "77/77 [==============================] - 7s 87ms/step - loss: 0.0028\n",
            "Epoch 19/25\n",
            "77/77 [==============================] - 7s 87ms/step - loss: 0.0027\n",
            "Epoch 20/25\n",
            "77/77 [==============================] - 7s 88ms/step - loss: 0.0025\n",
            "Epoch 21/25\n",
            "77/77 [==============================] - 7s 86ms/step - loss: 0.0024\n",
            "Epoch 22/25\n",
            "77/77 [==============================] - 7s 85ms/step - loss: 0.0026\n",
            "Epoch 23/25\n",
            "77/77 [==============================] - 7s 86ms/step - loss: 0.0023\n",
            "Epoch 24/25\n",
            "77/77 [==============================] - 7s 88ms/step - loss: 0.0023\n",
            "Epoch 25/25\n",
            "77/77 [==============================] - 7s 88ms/step - loss: 0.0023\n"
          ],
          "name": "stdout"
        },
        {
          "output_type": "execute_result",
          "data": {
            "text/plain": [
              "<tensorflow.python.keras.callbacks.History at 0x7f94ea5a5390>"
            ]
          },
          "metadata": {
            "tags": []
          },
          "execution_count": 5
        }
      ]
    },
    {
      "cell_type": "markdown",
      "metadata": {
        "id": "ZndNdPpnQ3Eh"
      },
      "source": [
        "####Test the Model Accuracy on Existing Data"
      ]
    },
    {
      "cell_type": "code",
      "metadata": {
        "id": "lCWcfm74Pd2I"
      },
      "source": [
        "# Load Test Data\n",
        "test_start, test_end = dt.datetime(2020,1,1), dt.datetime.now()\n",
        "\n",
        "test_data = web.DataReader(company_stock_symbol, \n",
        "                           source, \n",
        "                           test_start, \n",
        "                           test_end)\n",
        "\n",
        "actual_prices = test_data['Close'].values\n",
        "\n",
        "total_dataset = pd.concat((data['Close'], test_data['Close']), axis=0)\n",
        "\n",
        "model_inputs = total_dataset[len(total_dataset) - len(test_data) - prediction_days:].values\n",
        "model_inputs = model_inputs.reshape(-1, 1)\n",
        "model_inputs = scaler.transform(model_inputs)\n"
      ],
      "execution_count": 6,
      "outputs": []
    },
    {
      "cell_type": "markdown",
      "metadata": {
        "id": "h5cL2MlJR-Ns"
      },
      "source": [
        "####Make Predictions on Test Data"
      ]
    },
    {
      "cell_type": "code",
      "metadata": {
        "id": "6pUvvdJaSBIu"
      },
      "source": [
        "x_test = [model_inputs[x-prediction_days:x, 0] for x in range(prediction_days, len(model_inputs))]\n",
        "x_test = np.array(x_test)\n",
        "x_test = np.reshape(x_test, (x_test.shape[0], x_test.shape[1], 1))\n",
        "\n",
        "predicted_prices = model.predict(x_test)\n",
        "predicted_prices = scaler.inverse_transform(predicted_prices)\n"
      ],
      "execution_count": 7,
      "outputs": []
    },
    {
      "cell_type": "markdown",
      "metadata": {
        "id": "79q_EUahS8Fq"
      },
      "source": [
        "####Plot the Test Predictions"
      ]
    },
    {
      "cell_type": "code",
      "metadata": {
        "colab": {
          "base_uri": "https://localhost:8080/",
          "height": 295
        },
        "id": "ozrWz9EpS-2Q",
        "outputId": "70563592-137a-486e-be22-5ebbd3c80e12"
      },
      "source": [
        "plt.plot(actual_prices, color=\"black\", label=f\"Actual {company_stock_symbol} Price\")\n",
        "plt.plot(predicted_prices, color=\"green\", label=f\"Predicted {company_stock_symbol} Price\")\n",
        "plt.title(f\"{company_stock_symbol} Share Price\")\n",
        "plt.xlabel('Time')\n",
        "plt.ylabel(f'{company_stock_symbol} Share Price')\n",
        "plt.legend()\n",
        "plt.show()\n"
      ],
      "execution_count": 8,
      "outputs": [
        {
          "output_type": "display_data",
          "data": {
            "image/png": "[encoded data removed]",
            "text/plain": [
              "<Figure size 432x288 with 1 Axes>"
            ]
          },
          "metadata": {
            "tags": [],
            "needs_background": "light"
          }
        }
      ]
    },
    {
      "cell_type": "markdown",
      "metadata": {
        "id": "S6mNGatRVWG4"
      },
      "source": [
        "####Predict Next Day"
      ]
    },
    {
      "cell_type": "code",
      "metadata": {
        "colab": {
          "base_uri": "https://localhost:8080/"
        },
        "id": "2tZha0YpVaLp",
        "outputId": "5f7103c8-fd2d-45ff-8354-fd632431a848"
      },
      "source": [
        "real_data = [model_inputs[len(model_inputs) + 1 - prediction_days:len(model_inputs+1), 0]]\n",
        "real_data = np.array(real_data)\n",
        "real_data = np.reshape(real_data, (real_data.shape[0], real_data.shape[1], 1))\n",
        "\n",
        "prediction = model.predict(real_data)\n",
        "prediction = scaler.inverse_transform(prediction)\n",
        "print(f\"Prediction: {prediction}\")\n"
      ],
      "execution_count": 9,
      "outputs": [
        {
          "output_type": "stream",
          "text": [
            "WARNING:tensorflow:Model was constructed with shape (None, 60, 1) for input KerasTensor(type_spec=TensorSpec(shape=(None, 60, 1), dtype=tf.float32, name='lstm_input'), name='lstm_input', description=\"created by layer 'lstm_input'\"), but it was called on an input with incompatible shape (None, 59, 1).\n",
            "Prediction: [[29.372122]]\n"
          ],
          "name": "stdout"
        }
      ]
    }
  ]
}